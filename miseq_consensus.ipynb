{
 "cells": [
  {
   "cell_type": "code",
   "execution_count": 36,
   "metadata": {
    "collapsed": true
   },
   "outputs": [],
   "source": [
    "import pysam\n",
    "import os\n",
    "import glob\n",
    "import operator\n",
    "import re\n",
    "from Bio import SeqIO\n",
    "from Bio.Seq import Seq\n",
    "from Bio.SeqRecord import SeqRecord\n",
    "from IPython.display import clear_output\n",
    "import vcf\n",
    "import csv\n",
    "import yaml"
   ]
  },
  {
   "cell_type": "code",
   "execution_count": 38,
   "metadata": {},
   "outputs": [],
   "source": [
    "config_file_name = \"miseq_consensus.config.yaml\"\n",
    "config = yaml.load(open(config_file_name))\n",
    "\n",
    "od=config[\"out_dir\"]\n",
    "alignment_dir = os.path.join(config[\"out_dir\"], \"alignment\")\n",
    "\n",
    "out_dir = os.path.join(config[\"out_dir\"], \"consensuses\")\n",
    "!mkdir -p $od $alignment_dir $out_dir\n",
    "\n",
    "consensus_amb_resolved_file = os.path.join(out_dir, \"consensus_amb_resolved.fas\")\n",
    "amb_thrs =[.05, 0.1, 0.2]\n",
    "consensus_with_amb_files = [os.path.join(out_dir, \"consensus_with_amb_{}.fas\".format(str(int(x*100)))) for x in amb_thrs]\n",
    "\n",
    "amb_dict = {\n",
    "    \"A\":\"A\",\n",
    "    \"C\":\"C\",\n",
    "    \"G\":\"G\",\n",
    "    \"T\":\"T\",\n",
    "    \"N\":\"N\",\n",
    "    \"AC\":\"M\",\n",
    "    \"AG\":\"R\",\n",
    "    \"AT\":\"W\",\n",
    "    \"CG\":\"S\",\n",
    "    \"CT\":\"Y\",\n",
    "    \"GT\":\"K\",\n",
    "    \"ACG\":\"V\",\n",
    "    \"ACT\":\"H\",\n",
    "    \"AGT\":\"D\",\n",
    "    \"CGT\":\"B\",\n",
    "    \"ACGT\":\"N\"\n",
    "}"
   ]
  },
  {
   "cell_type": "markdown",
   "metadata": {},
   "source": [
    "1) Align sequences"
   ]
  },
  {
   "cell_type": "code",
   "execution_count": 34,
   "metadata": {},
   "outputs": [
    {
     "name": "stdout",
     "output_type": "stream",
     "text": [
      "32/32\n"
     ]
    }
   ],
   "source": [
    "c='\"{}\"'.format(alignment_dir)\n",
    "!rm -f $c/*\n",
    "\n",
    "if config['is_pair_ended']:\n",
    "    sample_ids = set()\n",
    "    for f in glob.glob(os.path.join(config['fastq_dir'], \"*\")):\n",
    "        sample_ids.add(os.path.basename(f).replace(\"_R1_001.fastq\",\"\").replace(\"_R2_001.fastq\", ''))\n",
    "    for s in sample_ids:\n",
    "        ref = config['ref']\n",
    "        r1 = os.path.join(config['fastq_dir'], s + '_R1_001.fastq')\n",
    "        r2 = os.path.join(config['fastq_dir'], s + '_R2_001.fastq')\n",
    "        o = os.path.join(alignment_dir, s + '.sam')\n",
    "        !bwa mem -t 8 $ref $r1 $r2 > $o\n",
    "else:\n",
    "    for f in glob.glob(os.path.join(config['fastq_dir'], \"*\")):\n",
    "        ref = config['ref']\n",
    "        o = os.path.join(alignment_dir, os.path.splitext(os.path.basename(f))[0] + '.sam')\n",
    "        !bwa mem -t 8 $ref $f > $o\n",
    "    \n",
    "\n",
    "fs = glob.glob(os.path.join(alignment_dir,\"*.sam\"))\n",
    "i=0\n",
    "for f in fs:\n",
    "    clear_output(wait=True)\n",
    "    i+=1\n",
    "    print(\"{}/{}\".format(i,len(fs)))\n",
    "    b = os.path.splitext(f)[0]\n",
    "    o = b + \".bam\"\n",
    "    obs = b + \"_sorted.bam\"\n",
    "    c='-S -b \"{}\" > \"{}\"'.format(f,o)\n",
    "    !samtools view $c\n",
    "    c='\"{}\" -o \"{}\"'.format(o,obs)\n",
    "    !samtools sort $c\n",
    "    c='\"{}\"'.format(obs)\n",
    "    !samtools index $c"
   ]
  },
  {
   "cell_type": "markdown",
   "metadata": {},
   "source": [
    "2) Extract consensuses"
   ]
  },
  {
   "cell_type": "code",
   "execution_count": 35,
   "metadata": {},
   "outputs": [
    {
     "name": "stdout",
     "output_type": "stream",
     "text": [
      "32/32\n"
     ]
    }
   ],
   "source": [
    "ofs = [consensus_amb_resolved_file] + consensus_with_amb_files\n",
    "otr = [1] + amb_thrs\n",
    "seqs=[list() for _ in range(len(ofs))]\n",
    "\n",
    "def get_key(nucls_dict, thr):\n",
    "    cons = max(nucls_dict.iteritems(), key=operator.itemgetter(1))[0]\n",
    "    total = float(sum(nucls_dict.values()))\n",
    "    if not total:\n",
    "        return \"N\"\n",
    "    filtered_nucl = [k for k,v in nucls_dict.iteritems() if v/total >= thr]\n",
    "    return \"\".join(sorted(list(set([cons] + filtered_nucl))))\n",
    "\n",
    "fs=glob.glob(os.path.join(alignment_dir,\"*_sorted.bam\"))\n",
    "cc=0\n",
    "for f in fs:\n",
    "    clear_output(wait=True)\n",
    "    cc+=1\n",
    "    print(\"{}/{}\".format(cc,len(fs)))\n",
    "    seq_id = re.sub(\"_sorted.bam$\",\"\",os.path.basename(f))\n",
    "    try:\n",
    "        samfile = pysam.AlignmentFile(f, \"rb\")\n",
    "    except:\n",
    "        continue\n",
    "    consensus = list()\n",
    "    for c in samfile.pileup(max_depth=10e6):\n",
    "        consensus.append({\"A\":0,\"C\":0,\"T\":0,\"G\":0})\n",
    "        for r in c.pileups:\n",
    "            if not r.is_del and not r.is_refskip:\n",
    "                consensus[-1][r.alignment.query_sequence[r.query_position]] += 1\n",
    "    for i in range(len(ofs)):\n",
    "        seq = \"\".join([amb_dict[get_key(x,otr[i])]\n",
    "                       for x in consensus])\n",
    "        seqs[i].append(SeqRecord(Seq(seq),id=seq_id,description=seq_id))\n",
    "for i in range(len(ofs)):\n",
    "    SeqIO.write(seqs[i],ofs[i], \"fasta\")"
   ]
  },
  {
   "cell_type": "code",
   "execution_count": null,
   "metadata": {
    "collapsed": true
   },
   "outputs": [],
   "source": []
  }
 ],
 "metadata": {
  "kernelspec": {
   "display_name": "Python 3",
   "language": "python",
   "name": "python3"
  },
  "language_info": {
   "codemirror_mode": {
    "name": "ipython",
    "version": 2
   },
   "file_extension": ".py",
   "mimetype": "text/x-python",
   "name": "python",
   "nbconvert_exporter": "python",
   "pygments_lexer": "ipython2",
   "version": "2.7.14"
  }
 },
 "nbformat": 4,
 "nbformat_minor": 2
}
